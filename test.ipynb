{
 "cells": [
  {
   "cell_type": "code",
   "execution_count": 1,
   "metadata": {
    "collapsed": true,
    "pycharm": {
     "is_executing": false
    }
   },
   "outputs": [],
   "source": [
    "!export PYTHONPATH=\"${PYTHONPATH}:`pwd`\"\n",
    "\n"
   ]
  },
  {
   "cell_type": "code",
   "execution_count": 3,
   "outputs": [],
   "source": [
    "import tensorflow as tf\n",
    "from tensorflow import keras\n",
    "import numpy as np\n",
    "import pandas as pd\n",
    "import matplotlib.pyplot as plt\n",
    "from rdkit import Chem\n",
    "import pickle as pkl\n",
    "\n",
    "def loadpkl(fname):\n",
    "    with open(fname, 'rb') as fin:\n",
    "        obj = pkl.load(fin)\n",
    "    return obj"
   ],
   "metadata": {
    "collapsed": false,
    "pycharm": {
     "name": "#%%\n",
     "is_executing": false
    }
   }
  },
  {
   "cell_type": "code",
   "execution_count": 4,
   "outputs": [],
   "source": [
    "df = loadpkl('photovoltaic_efficiency/smiles-truth-prediction_table_pandas.pkl')"
   ],
   "metadata": {
    "collapsed": false,
    "pycharm": {
     "name": "#%%\n",
     "is_executing": false
    }
   }
  },
  {
   "cell_type": "code",
   "execution_count": 5,
   "outputs": [
    {
     "data": {
      "text/plain": "                                              smiles       PCE  predicted\n0  c1cc2c3cocc3c3c4[SiH2]C(=Cc4ncc3c2[se]1)c1scc2...  3.596639   3.695915\n1  C1C=Cc2ncc3c4[se]c(cc4c4=C[SiH2]C=c4c3c12)-c1c...  5.993001   5.978315\n2         [nH]1c(cc2c3nsnc3c3c4ccccc4oc3c12)-c1ccco1  2.855376   3.350651\n3  [nH]1c2cc(-c3nccc4nsnc34)c3nsnc3c2c2ncc3cccnc3c12  7.611321   6.163845\n4  [nH]1c2ccc3c[nH]cc3c2c2ccc3cc(ncc3c12)-c1scc2s...  1.471250   1.979696",
      "text/html": "<div>\n<style scoped>\n    .dataframe tbody tr th:only-of-type {\n        vertical-align: middle;\n    }\n\n    .dataframe tbody tr th {\n        vertical-align: top;\n    }\n\n    .dataframe thead th {\n        text-align: right;\n    }\n</style>\n<table border=\"1\" class=\"dataframe\">\n  <thead>\n    <tr style=\"text-align: right;\">\n      <th></th>\n      <th>smiles</th>\n      <th>PCE</th>\n      <th>predicted</th>\n    </tr>\n  </thead>\n  <tbody>\n    <tr>\n      <td>0</td>\n      <td>c1cc2c3cocc3c3c4[SiH2]C(=Cc4ncc3c2[se]1)c1scc2...</td>\n      <td>3.596639</td>\n      <td>3.695915</td>\n    </tr>\n    <tr>\n      <td>1</td>\n      <td>C1C=Cc2ncc3c4[se]c(cc4c4=C[SiH2]C=c4c3c12)-c1c...</td>\n      <td>5.993001</td>\n      <td>5.978315</td>\n    </tr>\n    <tr>\n      <td>2</td>\n      <td>[nH]1c(cc2c3nsnc3c3c4ccccc4oc3c12)-c1ccco1</td>\n      <td>2.855376</td>\n      <td>3.350651</td>\n    </tr>\n    <tr>\n      <td>3</td>\n      <td>[nH]1c2cc(-c3nccc4nsnc34)c3nsnc3c2c2ncc3cccnc3c12</td>\n      <td>7.611321</td>\n      <td>6.163845</td>\n    </tr>\n    <tr>\n      <td>4</td>\n      <td>[nH]1c2ccc3c[nH]cc3c2c2ccc3cc(ncc3c12)-c1scc2s...</td>\n      <td>1.471250</td>\n      <td>1.979696</td>\n    </tr>\n  </tbody>\n</table>\n</div>"
     },
     "metadata": {},
     "output_type": "execute_result",
     "execution_count": 5
    }
   ],
   "source": [
    "df.head()"
   ],
   "metadata": {
    "collapsed": false,
    "pycharm": {
     "name": "#%%\n",
     "is_executing": false
    }
   }
  },
  {
   "cell_type": "code",
   "execution_count": 13,
   "outputs": [
    {
     "data": {
      "text/plain": "(821, 29978)"
     },
     "metadata": {},
     "output_type": "execute_result",
     "execution_count": 13
    }
   ],
   "source": [
    "(df['PCE'] == 0).sum(), len(df)"
   ],
   "metadata": {
    "collapsed": false,
    "pycharm": {
     "name": "#%%\n",
     "is_executing": false
    }
   }
  },
  {
   "cell_type": "code",
   "execution_count": 14,
   "outputs": [],
   "source": [
    "truth = df['PCE'][(df['PCE'] != 0)]\n",
    "predict = df['predicted'][(df['PCE'] != 0)]"
   ],
   "metadata": {
    "collapsed": false,
    "pycharm": {
     "name": "#%%\n",
     "is_executing": false
    }
   }
  },
  {
   "cell_type": "code",
   "execution_count": 17,
   "outputs": [
    {
     "data": {
      "text/plain": "[<matplotlib.lines.Line2D at 0x12d548c18>]"
     },
     "metadata": {},
     "output_type": "execute_result",
     "execution_count": 17
    },
    {
     "data": {
      "text/plain": "<Figure size 360x360 with 1 Axes>",
      "image/png": "[encoded data removed]"
     },
     "metadata": {
      "needs_background": "light"
     },
     "output_type": "display_data"
    }
   ],
   "source": [
    "MSE = np.mean((truth-predict)**2)\n",
    "plt.figure(figsize=(5,5))\n",
    "plt.scatter(predict, truth, c='r', marker='.')\n",
    "plt.title(f\"MSE over dataset = {MSE:.3f}\")\n",
    "plt.plot([-10, 10], [-10, 10], 'b--')\n",
    "plt.xlabel('Predicted')\n",
    "plt.ylabel('Groundtruth')"
   ],
   "metadata": {
    "collapsed": false,
    "pycharm": {
     "name": "#%%\n",
     "is_executing": false
    }
   }
  },
  {
   "cell_type": "code",
   "execution_count": 18,
   "outputs": [
    {
     "name": "stdout",
     "text": [
      "0.9583198178265038\n"
     ],
     "output_type": "stream"
    }
   ],
   "source": [
    "from scipy.stats import pearsonr\n",
    "print(pearsonr(predict, truth)[0])"
   ],
   "metadata": {
    "collapsed": false,
    "pycharm": {
     "name": "#%%\n",
     "is_executing": false
    }
   }
  },
  {
   "cell_type": "code",
   "execution_count": 28,
   "outputs": [],
   "source": [
    "df['PCE-predicted'] = df['PCE']-df['predicted']\n",
    "filtered = df[(df['PCE'] != 0)]\n",
    "filtered = filtered.sort_values(by=['PCE-predicted'])"
   ],
   "metadata": {
    "collapsed": false,
    "pycharm": {
     "name": "#%%\n",
     "is_executing": false
    }
   }
  },
  {
   "cell_type": "code",
   "execution_count": 29,
   "outputs": [
    {
     "data": {
      "text/plain": "                                                  smiles       PCE  predicted  \\\n25210  [nH]1ccc2Cc3c([nH]c4cc(-c5cccc6nsnc56)c5c[nH]c... -3.699340   0.146256   \n13998  [nH]1c2C=C(Cc2c2Cc3ccc4=CCC=c4c3-c12)c1scc2[nH... -6.945400  -3.242761   \n368     [nH]1ccc2[nH]c3C4=C(Cc3c12)C=C(C4)C1=CC=C[SiH2]1 -4.060552  -0.388856   \n11979  [nH]1ccc2Cc3c4CC(=Cc4c4=C[SiH2]C=c4c3-c12)c1sc... -5.326986  -1.762015   \n17382       C1C=c2c3C=CCc3c3CC(=Cc3c2=C1)c1scc2[nH]ccc12 -4.117414  -0.734299   \n\n       PCE-predicted  \n25210      -3.845596  \n13998      -3.702639  \n368        -3.671696  \n11979      -3.564971  \n17382      -3.383115  ",
      "text/html": "<div>\n<style scoped>\n    .dataframe tbody tr th:only-of-type {\n        vertical-align: middle;\n    }\n\n    .dataframe tbody tr th {\n        vertical-align: top;\n    }\n\n    .dataframe thead th {\n        text-align: right;\n    }\n</style>\n<table border=\"1\" class=\"dataframe\">\n  <thead>\n    <tr style=\"text-align: right;\">\n      <th></th>\n      <th>smiles</th>\n      <th>PCE</th>\n      <th>predicted</th>\n      <th>PCE-predicted</th>\n    </tr>\n  </thead>\n  <tbody>\n    <tr>\n      <td>25210</td>\n      <td>[nH]1ccc2Cc3c([nH]c4cc(-c5cccc6nsnc56)c5c[nH]c...</td>\n      <td>-3.699340</td>\n      <td>0.146256</td>\n      <td>-3.845596</td>\n    </tr>\n    <tr>\n      <td>13998</td>\n      <td>[nH]1c2C=C(Cc2c2Cc3ccc4=CCC=c4c3-c12)c1scc2[nH...</td>\n      <td>-6.945400</td>\n      <td>-3.242761</td>\n      <td>-3.702639</td>\n    </tr>\n    <tr>\n      <td>368</td>\n      <td>[nH]1ccc2[nH]c3C4=C(Cc3c12)C=C(C4)C1=CC=C[SiH2]1</td>\n      <td>-4.060552</td>\n      <td>-0.388856</td>\n      <td>-3.671696</td>\n    </tr>\n    <tr>\n      <td>11979</td>\n      <td>[nH]1ccc2Cc3c4CC(=Cc4c4=C[SiH2]C=c4c3-c12)c1sc...</td>\n      <td>-5.326986</td>\n      <td>-1.762015</td>\n      <td>-3.564971</td>\n    </tr>\n    <tr>\n      <td>17382</td>\n      <td>C1C=c2c3C=CCc3c3CC(=Cc3c2=C1)c1scc2[nH]ccc12</td>\n      <td>-4.117414</td>\n      <td>-0.734299</td>\n      <td>-3.383115</td>\n    </tr>\n  </tbody>\n</table>\n</div>"
     },
     "metadata": {},
     "output_type": "execute_result",
     "execution_count": 29
    }
   ],
   "source": [
    "filtered.head()\n"
   ],
   "metadata": {
    "collapsed": false,
    "pycharm": {
     "name": "#%%\n",
     "is_executing": false
    }
   }
  },
  {
   "cell_type": "code",
   "execution_count": 24,
   "outputs": [
    {
     "data": {
      "text/plain": "                                                  smiles        PCE  \\\n11480  c1sc(-c2cnc(s2)-c2sc(-c3cncc4nsnc34)c3cc[nH]c2...   9.928810   \n15301       c1cc2sc3c4[SiH2]C(=Cc4ncc3c2s1)c1cncc2nsnc12  10.063166   \n12023  c1cnc(s1)-c1ncc(-c2ccc(cn2)-c2scc3cc[se]c23)c2...  10.722070   \n17713  [nH]1c(ccc1-c1scc2[SiH2]ccc12)-c1cnc(s1)-c1cnc...  10.796383   \n23096  c1cnc2c(cnc3c4[se]c(cc4c4=C[SiH2]C=c4c23)-c2nc...  10.658349   \n\n       predicted  PCE-predicted  \n11480   1.287505       8.641305  \n15301   1.132066       8.931100  \n12023   1.477757       9.244313  \n17713   0.456627      10.339756  \n23096   0.018522      10.639827  ",
      "text/html": "<div>\n<style scoped>\n    .dataframe tbody tr th:only-of-type {\n        vertical-align: middle;\n    }\n\n    .dataframe tbody tr th {\n        vertical-align: top;\n    }\n\n    .dataframe thead th {\n        text-align: right;\n    }\n</style>\n<table border=\"1\" class=\"dataframe\">\n  <thead>\n    <tr style=\"text-align: right;\">\n      <th></th>\n      <th>smiles</th>\n      <th>PCE</th>\n      <th>predicted</th>\n      <th>PCE-predicted</th>\n    </tr>\n  </thead>\n  <tbody>\n    <tr>\n      <td>11480</td>\n      <td>c1sc(-c2cnc(s2)-c2sc(-c3cncc4nsnc34)c3cc[nH]c2...</td>\n      <td>9.928810</td>\n      <td>1.287505</td>\n      <td>8.641305</td>\n    </tr>\n    <tr>\n      <td>15301</td>\n      <td>c1cc2sc3c4[SiH2]C(=Cc4ncc3c2s1)c1cncc2nsnc12</td>\n      <td>10.063166</td>\n      <td>1.132066</td>\n      <td>8.931100</td>\n    </tr>\n    <tr>\n      <td>12023</td>\n      <td>c1cnc(s1)-c1ncc(-c2ccc(cn2)-c2scc3cc[se]c23)c2...</td>\n      <td>10.722070</td>\n      <td>1.477757</td>\n      <td>9.244313</td>\n    </tr>\n    <tr>\n      <td>17713</td>\n      <td>[nH]1c(ccc1-c1scc2[SiH2]ccc12)-c1cnc(s1)-c1cnc...</td>\n      <td>10.796383</td>\n      <td>0.456627</td>\n      <td>10.339756</td>\n    </tr>\n    <tr>\n      <td>23096</td>\n      <td>c1cnc2c(cnc3c4[se]c(cc4c4=C[SiH2]C=c4c23)-c2nc...</td>\n      <td>10.658349</td>\n      <td>0.018522</td>\n      <td>10.639827</td>\n    </tr>\n  </tbody>\n</table>\n</div>"
     },
     "metadata": {},
     "output_type": "execute_result",
     "execution_count": 24
    }
   ],
   "source": [
    "filtered.tail()"
   ],
   "metadata": {
    "collapsed": false,
    "pycharm": {
     "name": "#%%\n",
     "is_executing": false
    }
   }
  },
  {
   "cell_type": "code",
   "execution_count": 25,
   "outputs": [
    {
     "data": {
      "text/plain": "29978"
     },
     "metadata": {},
     "output_type": "execute_result",
     "execution_count": 25
    }
   ],
   "source": [
    "len(filtered)"
   ],
   "metadata": {
    "collapsed": false,
    "pycharm": {
     "name": "#%%\n",
     "is_executing": false
    }
   }
  },
  {
   "cell_type": "code",
   "execution_count": 26,
   "outputs": [],
   "source": [],
   "metadata": {
    "collapsed": false,
    "pycharm": {
     "name": "#%%\n",
     "is_executing": false
    }
   }
  },
  {
   "cell_type": "code",
   "execution_count": 27,
   "outputs": [
    {
     "data": {
      "text/plain": "29157"
     },
     "metadata": {},
     "output_type": "execute_result",
     "execution_count": 27
    }
   ],
   "source": [
    "len(filtered)\n",
    "\n"
   ],
   "metadata": {
    "collapsed": false,
    "pycharm": {
     "name": "#%%\n",
     "is_executing": false
    }
   }
  },
  {
   "cell_type": "code",
   "execution_count": null,
   "outputs": [],
   "source": [
    "\n"
   ],
   "metadata": {
    "collapsed": false,
    "pycharm": {
     "name": "#%%\n"
    }
   }
  }
 ],
 "metadata": {
  "language_info": {
   "codemirror_mode": {
    "name": "ipython",
    "version": 2
   },
   "file_extension": ".py",
   "mimetype": "text/x-python",
   "name": "python",
   "nbconvert_exporter": "python",
   "pygments_lexer": "ipython2",
   "version": "2.7.6"
  },
  "kernelspec": {
   "name": "python3",
   "language": "python",
   "display_name": "Python 3"
  },
  "pycharm": {
   "stem_cell": {
    "cell_type": "raw",
    "source": [],
    "metadata": {
     "collapsed": false
    }
   }
  }
 },
 "nbformat": 4,
 "nbformat_minor": 0
}